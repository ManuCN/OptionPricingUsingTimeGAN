{
 "cells": [
  {
   "cell_type": "code",
   "execution_count": 1,
   "metadata": {},
   "outputs": [],
   "source": [
    "import sys\n",
    "sys.path.append(\"..\")"
   ]
  },
  {
   "cell_type": "code",
   "execution_count": 2,
   "metadata": {},
   "outputs": [],
   "source": [
    "from TimeGAN.Model import Model"
   ]
  },
  {
   "cell_type": "code",
   "execution_count": 3,
   "metadata": {},
   "outputs": [],
   "source": [
    "import pandas as pd\n",
    "import numpy as np\n",
    "import scipy\n",
    "from scipy.stats import norm\n",
    "from matplotlib import pyplot as plt"
   ]
  },
  {
   "cell_type": "code",
   "execution_count": 4,
   "metadata": {},
   "outputs": [],
   "source": [
    "model = Model(seq_len=24, \n",
    "              hidden_dim=34, \n",
    "              noise_dim=32, \n",
    "              dim=128, \n",
    "              batch_size=128, \n",
    "              learning_rate=5e-4,\n",
    "              data_ret_dir=\"../Data/ReturnDataDAX.csv\", \n",
    "              data_abs_dir=\"../Data/PriceDataDAX.csv\")"
   ]
  },
  {
   "cell_type": "code",
   "execution_count": 5,
   "metadata": {},
   "outputs": [],
   "source": [
    "model.load_model(model_dir=\"../TimeGAN/SavedPKLs/synthesizer_DAX_returns_Hidden_dim34_500.pkl\")"
   ]
  },
  {
   "cell_type": "code",
   "execution_count": 6,
   "metadata": {},
   "outputs": [
    {
     "name": "stderr",
     "output_type": "stream",
     "text": [
      "Synthetic data generation: 100%|█████████████████████████████████████████████████████| 782/782 [03:09<00:00,  4.07it/s]\n"
     ]
    }
   ],
   "source": [
    "data = model.rescaled_cum_return(model.generate_synthetic(synthetic_size=100000))\n",
    "DataTimeGAN = pd.DataFrame(data=data)"
   ]
  },
  {
   "cell_type": "code",
   "execution_count": 11,
   "metadata": {},
   "outputs": [],
   "source": [
    "T = 24/250\n",
    "r = 0.01"
   ]
  },
  {
   "cell_type": "code",
   "execution_count": 12,
   "metadata": {},
   "outputs": [],
   "source": [
    "class MonteCarloPricer():    \n",
    "    def _price_european(self, St, r, df):\n",
    "        self.St = St\n",
    "        self.r = r\n",
    "        dfST = df.iloc[:,-1] * self.St\n",
    "        \n",
    "        if self.Type == \"Call\":\n",
    "            Payouts = dfST[dfST > self.K] - self.K\n",
    "        elif self.Type == \"Put\":\n",
    "            Payouts = self.K - dfST[dfST < self.K]\n",
    "        \n",
    "        x = Payouts.sum()/len(dfST)      \n",
    "        return self.__discount(x)   \n",
    "    \n",
    "    def _price_digital(self,St, r, df, Q, q):\n",
    "        self.St = St\n",
    "        self.r = r\n",
    "        self.Q = Q\n",
    "        self.q = q\n",
    "        dfST = df.iloc[:,-1] * self.St\n",
    "        \n",
    "        if self.PayoutType == \"Cash\":\n",
    "            if self.Type == \"Call\":\n",
    "                Payouts = len(dfST[dfST > self.K]) * self.Q\n",
    "            elif self.Type == \"Put\":\n",
    "                Payouts = len(dfST[dfST < self.K]) * self.Q\n",
    "            x = Payouts/len(dfST)\n",
    "            return self.__discount(x)\n",
    "            \n",
    "        elif self.PayoutType == \"Asset\":\n",
    "            if self.Type == \"Call\":\n",
    "                Payouts = dfST[dfST > self.K]\n",
    "            elif self.Type == \"Put\":\n",
    "                Payouts = dfST[dfST < self.K]\n",
    "            x = Payouts.sum()/len(dfST)\n",
    "            return self.__discount(x)\n",
    "    \n",
    "    def _price_asian(self, St, r, df, AverageType, AveragePeriod):\n",
    "        self.St = St\n",
    "        self.r = r\n",
    "        self.AverageType = AverageType\n",
    "        self.AveragePeriod = AveragePeriod\n",
    "        \n",
    "        meanDf = df.iloc[:, df.shape[1]-self.AveragePeriod:df.shape[1]]*self.St\n",
    "        \n",
    "        if self.AverageType == \"Geometric\":\n",
    "            meanDf = scipy.mean(meanDf,axis=1)    \n",
    "        elif self.AverageType == \"Arithmetic\":\n",
    "            meanDf = scipy.stats.gmean(meanDf,axis=1)\n",
    "        \n",
    "        if self.PayoutType == \"AveragePrice\":\n",
    "            if self.Type == \"Call\":\n",
    "                Payouts = meanDf[meanDf > self.K] - self.K\n",
    "            elif self.Type == \"Put\":\n",
    "                Payouts = self.K - meanDf[self.K > meanDf]\n",
    "        elif self.PayoutType == \"AverageStrike\": \n",
    "            dfST = df.iloc[:,-1] * self.St\n",
    "            if self.Type == \"Call\":\n",
    "                Payouts = dfST - meanDf\n",
    "            elif self.Type == \"Put\":\n",
    "                Payouts = meanDf - dfST\n",
    "            Payouts = Payouts[Payouts>0]\n",
    "        \n",
    "        x = Payouts.sum()/meanDf.shape[0]\n",
    "        return self.__discount(x)\n",
    "    \n",
    "    def _price_chooser(self, St, r, df):\n",
    "        self.St = St\n",
    "        self.r = r\n",
    "        dfSt1 = df[round((df.shape[1]/self.T2)*self.T1,0)] * self.St\n",
    "        dfST2 = df.iloc[:,-1] * self.St\n",
    "        \n",
    "        i = 0\n",
    "        Payouts = []\n",
    "        while i < len(df):\n",
    "            if dfSt1[i] > self.K:\n",
    "                Payouts.append(max(dfST2[i]-self.K,0))\n",
    "            else:\n",
    "                Payouts.append(max(self.K-dfST2[i],0))\n",
    "            i += 1\n",
    "        x = pd.DataFrame(Payouts).sum()/dfST2.shape[0]\n",
    "        return self.__discount(x)\n",
    "    \n",
    "    def _price_floating_strike_lookback(self, St, r, df):\n",
    "        self.St = St\n",
    "        self.r = r\n",
    "        dfST = df.iloc[:,-1] * self.St\n",
    "        \n",
    "        if self.Type == \"Call\":\n",
    "            dfMin = df.min(axis=1) * self.St\n",
    "            Payouts = dfST - dfMin\n",
    "            \n",
    "        elif self.Type == \"Put\":\n",
    "            dfMax = df.max(axis=1) * self.St\n",
    "            Payouts = dfMax - dfST\n",
    "        \n",
    "        x = Payouts.sum()/len(dfST)\n",
    "        return self.__discount(x)        \n",
    "    \n",
    "    def __discount(self, x):\n",
    "        return float(x * np.exp(-self.r*self.T))"
   ]
  },
  {
   "cell_type": "code",
   "execution_count": 13,
   "metadata": {},
   "outputs": [],
   "source": [
    "class Option(MonteCarloPricer):\n",
    "    def __init__(self, T, K):\n",
    "        self.T = T\n",
    "        self.K = K\n",
    "        \n",
    "    def _calculate_d1_d2(self, St, r, sigma, q):\n",
    "        self.St = St\n",
    "        self.r = r\n",
    "        self.sigma = sigma\n",
    "        self.q = q\n",
    "        \n",
    "        self.d1 = (np.log(self.St/self.K) + (self.r-self.q + self.sigma**2/2)*self.T)/(self.sigma*np.sqrt(self.T))\n",
    "        self.d2 = self.d1 - self.sigma * np.sqrt(self.T)"
   ]
  },
  {
   "cell_type": "code",
   "execution_count": 14,
   "metadata": {},
   "outputs": [],
   "source": [
    "class EuropeanCall(Option):\n",
    "    def __init__(self, T, K):\n",
    "        super().__init__(T, K)\n",
    "        self.Type = \"Call\"\n",
    "    \n",
    "    def price_using_BS(self, St, r, sigma, q=0):\n",
    "        self._calculate_d1_d2(St, r, sigma, q)\n",
    "        b = r - q\n",
    "        return self.St * np.exp((b-self.r)*self.T) * norm.cdf(self.d1, 0, 1) - self.K * np.exp(-self.r*self.T) * norm.cdf(self.d2, 0, 1)\n",
    "    \n",
    "    def price_using_monte_carlo(self,St, r, df):  \n",
    "        return self._price_european(St , r, df)       "
   ]
  },
  {
   "cell_type": "code",
   "execution_count": 15,
   "metadata": {},
   "outputs": [],
   "source": [
    "class EuropeanPut(Option):\n",
    "    def __init__(self, T, K):\n",
    "        super().__init__(T, K)\n",
    "        self.Type = \"Put\"    \n",
    "\n",
    "    def price_using_BS(self, St, r, sigma, q=0):\n",
    "        self._calculate_d1_d2(St, r, sigma, q)\n",
    "        b = r - q\n",
    "        return self.K * np.exp(-self.r*self.T) * norm.cdf(-self.d2, 0, 1) - self.St * np.exp((b-self.r)*self.T) * norm.cdf(-self.d1, 0, 1) \n",
    "    \n",
    "    def price_using_monte_carlo(self,St, r, df):    \n",
    "        return self._price_european(St , r, df)   "
   ]
  },
  {
   "cell_type": "code",
   "execution_count": 16,
   "metadata": {},
   "outputs": [],
   "source": [
    "class DigitalOption(Option):\n",
    "    def __init__(self, T, K, PayoutType):\n",
    "        super().__init__(T, K)\n",
    "        self.PayoutType = PayoutType\n",
    "    \n",
    "    def price_closed_form(self, St, r, sigma, Q, q):\n",
    "        self._calculate_d1_d2(St ,r , sigma, q)\n",
    "        self.Q = Q\n",
    "    \n",
    "    def price_using_monte_carlo(self, St, r, df, Q=0, q=0):    \n",
    "        return self._price_digital(St, r, df, Q, q)  "
   ]
  },
  {
   "cell_type": "code",
   "execution_count": 17,
   "metadata": {},
   "outputs": [],
   "source": [
    "class DigitalCall(DigitalOption):\n",
    "    def __init__(self, T, K, PayoutType):\n",
    "        super().__init__(T, K, PayoutType)\n",
    "        self.Type = \"Call\"\n",
    "    \n",
    "    def price_closed_form(self, St, r, sigma, Q=0, q=0):\n",
    "        super().price_closed_form(St, r, sigma, Q, q)\n",
    "        if self.PayoutType == \"Cash\":\n",
    "            return self.Q * np.exp(-self.r*self.T) * norm.cdf(self.d2, 0, 1)\n",
    "        elif self.PayoutType == \"Asset\":\n",
    "            return self.St * np.exp(-self.q*self.T) * norm.cdf(self.d1, 0, 1)"
   ]
  },
  {
   "cell_type": "code",
   "execution_count": 18,
   "metadata": {},
   "outputs": [],
   "source": [
    "class DigitalPut(DigitalOption):\n",
    "    def __init__(self, T, K, PayoutType):\n",
    "        super().__init__(T, K, PayoutType)\n",
    "        self.Type = \"Put\"\n",
    "    \n",
    "    def price_closed_form(self, St, r, sigma, Q=0, q=0):\n",
    "        super().price_closed_form(St, r, sigma, Q, q)\n",
    "        if self.PayoutType == \"Cash\":\n",
    "            return self.Q * np.exp(-self.r*self.T) * norm.cdf(-self.d2, 0, 1)\n",
    "        elif self.PayoutType == \"Asset\":\n",
    "            return self.St * np.exp(-self.q*self.T) * norm.cdf(-self.d1, 0, 1)"
   ]
  },
  {
   "cell_type": "code",
   "execution_count": 19,
   "metadata": {},
   "outputs": [],
   "source": [
    "class AsianOption(Option):\n",
    "    def __init__(self, T, PayoutType, K):\n",
    "        self.PayoutType = PayoutType\n",
    "        if self.PayoutType == \"AveragePrice\":\n",
    "            super().__init__(T ,K)\n",
    "        elif self.PayoutType == \"AverageStrike\":\n",
    "            self.T = T\n",
    "    \n",
    "    def price_closed_form(self, St, r, sigma, q):\n",
    "        if self.PayoutType == \"AveragePrice\":\n",
    "            self.St = St\n",
    "            self.r = r\n",
    "            self.sigma = sigma/np.sqrt(3)\n",
    "            self.q = q\n",
    "            \n",
    "            self.b = 0.5*(self.r - self.q - sigma**2 / 6)\n",
    "\n",
    "            self.d1 = (np.log(self.St/self.K) + (self.b + self.sigma**2/2)*self.T)/(self.sigma*np.sqrt(self.T))\n",
    "            self.d2 = self.d1 - self.sigma * np.sqrt(self.T)\n",
    " \n",
    "            return True\n",
    "        else:\n",
    "            print(\"Error: Method not implemented\")\n",
    "            return False\n",
    "    \n",
    "    def price_using_monte_carlo(self, St, r, df, AveragePeriod, AverageType):\n",
    "        return self._price_asian(St, r, df, AverageType, AveragePeriod)"
   ]
  },
  {
   "cell_type": "code",
   "execution_count": 20,
   "metadata": {},
   "outputs": [],
   "source": [
    "class AsianCall(AsianOption):\n",
    "    def __init__(self, T, PayoutType, K=0):\n",
    "        super().__init__(T, PayoutType, K)\n",
    "        self.Type = \"Call\"\n",
    "    \n",
    "    def price_closed_form(self, St, r, sigma, q=0):\n",
    "        if super().price_closed_form(St, r, sigma, q): \n",
    "            return self.St * np.exp((self.b-self.r)*self.T) * norm.cdf(self.d1, 0, 1) - self.K * np.exp(-self.r*self.T) * norm.cdf(self.d2, 0, 1)"
   ]
  },
  {
   "cell_type": "code",
   "execution_count": 21,
   "metadata": {},
   "outputs": [],
   "source": [
    "class AsianPut(AsianOption):\n",
    "    def __init__(self, T, PayoutType, K=0):\n",
    "        super().__init__(T, PayoutType, K)\n",
    "        self.Type = \"Put\"\n",
    "    \n",
    "    def price_closed_form(self, St, r, sigma, q=0):\n",
    "        if super().price_closed_form(St, r, sigma, q):\n",
    "            return self.K * np.exp(-self.r*self.T) * norm.cdf(-self.d2, 0, 1) - self.St * np.exp((self.b-self.r)*self.T) * norm.cdf(-self.d1, 0, 1)"
   ]
  },
  {
   "cell_type": "code",
   "execution_count": 22,
   "metadata": {},
   "outputs": [],
   "source": [
    "class ChooserOption(EuropeanCall, EuropeanPut):\n",
    "    def __init__(self, T1, T2, K):\n",
    "        self.T1 = T1\n",
    "        self.T2 = T2\n",
    "        self.K = K\n",
    "    \n",
    "    def price_closed_form(self, St, r, sigma, q=0):\n",
    "        self.St = St\n",
    "        self.r = r\n",
    "        self.sigma = sigma\n",
    "        self.q = q\n",
    "        \n",
    "        num_c = 1\n",
    "        num_p = np.exp(-q*(self.T2-self.T1))\n",
    "        self.K_chooser = self.K\n",
    "        \n",
    "        self.T = self.T1\n",
    "        self.K = self.K_chooser*np.exp(-(self.r-self.q)*(self.T2-self.T1))\n",
    "        p = EuropeanPut.price_using_BS(self, St, r, sigma, q)\n",
    "        \n",
    "        self.T = self.T2 \n",
    "        self.K = self.K_chooser\n",
    "        c = EuropeanCall.price_using_BS(self, St, r, sigma, q)\n",
    "        \n",
    "        return num_c * c + num_p * p\n",
    "    \n",
    "    def price_using_monte_carlo(self, St, r, df):\n",
    "        self.T = self.T2 \n",
    "        return self._price_chooser(St, r, df)"
   ]
  },
  {
   "cell_type": "code",
   "execution_count": 23,
   "metadata": {},
   "outputs": [],
   "source": [
    "class FloatingStrikeLookbackOption(Option):\n",
    "    def __init__(self, T):\n",
    "        self.T = T\n",
    "    \n",
    "    def price_closed_form(self, St, r, sigma, q):\n",
    "        self.St = St\n",
    "        self.r = r\n",
    "        self.sigma = sigma\n",
    "        self.q = q\n",
    "        \n",
    "    def price_using_monte_carlo(self, St, r, df):\n",
    "        return self._price_floating_strike_lookback(St, r, df)      "
   ]
  },
  {
   "cell_type": "code",
   "execution_count": 24,
   "metadata": {},
   "outputs": [],
   "source": [
    "class FloatingStrikeLookbackCall(FloatingStrikeLookbackOption):\n",
    "    def __init__(self, T):\n",
    "        super().__init__(T)\n",
    "        self.Type = \"Call\"\n",
    "        \n",
    "    def price_closed_form(self, St, r, sigma, q=0, Smin=0):\n",
    "        super().price_closed_form(St, r, sigma, q)\n",
    "        if Smin != 0:\n",
    "            self.Smin = Smin\n",
    "        else:\n",
    "            self.Smin = self.St\n",
    "        \n",
    "        a1 = (np.log(self.St/self.Smin) + (self.r - self.q + 0.5 * self.sigma**2) * self.T) / (self.sigma * np.sqrt(self.T))\n",
    "        a2 = a1 - self.sigma * np.sqrt(self.T)\n",
    "        a3 = (np.log(self.St/self.Smin) + (-self.r + self.q + 0.5 * self.sigma**2) * self.T) / (self.sigma * np.sqrt(self.T))\n",
    "        Y1 = (2 * np.log(self.St/self.Smin) * (self.r - self.q - 0.5 * sigma**2)) / (self.sigma**2)\n",
    "        \n",
    "        x1 = self.sigma**2 / (2*(self.r-self.q))\n",
    "        x2 = norm.cdf(a2, 0, 1) - x1 * np.exp(Y1) * norm.cdf(-a3, 0, 1)\n",
    "        \n",
    "        return self.St * np.exp(-self.q * self.T) * norm.cdf(a1, 0, 1) - self.St * np.exp(-self.q * self.T) * x1 * norm.cdf(-a1, 0, 1) - self.Smin * np.exp(-self.r * self.T) * x2"
   ]
  },
  {
   "cell_type": "code",
   "execution_count": 25,
   "metadata": {},
   "outputs": [],
   "source": [
    "class FloatingStrikeLookbackPut(FloatingStrikeLookbackOption):\n",
    "    def __init__(self, T):\n",
    "        super().__init__(T)\n",
    "        self.Type = \"Put\"\n",
    "        \n",
    "    def price_closed_form(self, St, r, sigma, q=0, Smax=0):\n",
    "        super().price_closed_form(St, r, sigma, q)\n",
    "        if Smax != 0:\n",
    "            self.Smax = Smax\n",
    "        else:\n",
    "            self.Smax = self.St\n",
    "        \n",
    "        b1 = (np.log(self.Smax/self.St) + (-self.r + self.q + 0.5 * self.sigma**2) * self.T) / (self.sigma * np.sqrt(self.T))\n",
    "        b2 = b1 - self.sigma * np.sqrt(self.T)\n",
    "        b3 = (np.log(self.Smax/self.St) + (self.r - self.q - 0.5 * self.sigma**2) * self.T) / (self.sigma * np.sqrt(self.T))\n",
    "        Y2 = (2 * np.log(self.Smax/self.St) * (self.r - self.q - 0.5 * sigma**2)) / (self.sigma**2)\n",
    "        \n",
    "        z1 = self.sigma**2 / (2*(self.r-self.q))\n",
    "        z2 = norm.cdf(b1, 0, 1) - z1 * np.exp(Y2) * norm.cdf(-b3, 0, 1)\n",
    "        \n",
    "        return self.Smax * np.exp(-self.r * self.T) * z2 + self.St * np.exp(-self.q * self.T) * z1 * norm.cdf(-b2, 0, 1) - self.St * np.exp(-self.q * self.T) * norm.cdf(b2, 0, 1)"
   ]
  },
  {
   "cell_type": "markdown",
   "metadata": {},
   "source": [
    "## Bewertung mehrer Optionen im Vergleich"
   ]
  },
  {
   "cell_type": "code",
   "execution_count": 52,
   "metadata": {},
   "outputs": [],
   "source": [
    "#[Month, VDAX Close, DAX Close, ATM Strike]\n",
    "options = [[\"FEB\",23.50,13848.35,13850],\n",
    "        [\"MAR\",21.89,14109.48,14100],\n",
    "        [\"APR\",20.19,14569.39,14550],\n",
    "        [\"MAY\",18.74,15368.39,15350],\n",
    "        [\"JUN\",20.76,15416.64,15400],\n",
    "        [\"JUL\",17.86,15673.64,15650],\n",
    "        [\"AUG\",24.11,15133.20,15150],\n",
    "        [\"SEP\",18.02,15925.73,15950],\n",
    "        [\"OCT\",21.31,15701.42,15700],\n",
    "        [\"NOV\",16.72,15474.47,15450],\n",
    "        [\"DEC\",15.66,16148.64,16150]]"
   ]
  },
  {
   "cell_type": "code",
   "execution_count": 53,
   "metadata": {},
   "outputs": [],
   "source": [
    "class Compare():\n",
    "    def __init__(self, options, precision=2):\n",
    "        self.options = options\n",
    "        self.precision = precision\n",
    "        \n",
    "    def define_compare(self, option):\n",
    "        pass\n",
    "    \n",
    "    def compare(self):\n",
    "\n",
    "        for option in self.options:\n",
    "            if option == self.options[0]:\n",
    "                print(f\"<{type(self).__name__}>\\n\")\n",
    "            self.define_compare(option)\n",
    "            \n",
    "            self.c_difference = (self.call_price_mc - self.call_price_ref) / self.call_price_ref\n",
    "            self.p_difference = (self.put_price_mc - self.put_price_ref) / self.put_price_ref\n",
    "\n",
    "            print(f\"{option[0]} C ==> Reference Price: {round(self.call_price_ref,self.precision)} MC Price: {round(self.call_price_mc,self.precision)} | Difference: {round(self.c_difference*100,self.precision)} %\")\n",
    "            print(f\"{option[0]} P ==> Reference Price: {round(self.put_price_ref,self.precision)} MC Price: {round(self.put_price_mc,self.precision)} | Difference: {round(self.p_difference*100,self.precision)} %\\n\")"
   ]
  },
  {
   "cell_type": "markdown",
   "metadata": {},
   "source": [
    "<b>European</b>"
   ]
  },
  {
   "cell_type": "code",
   "execution_count": 56,
   "metadata": {},
   "outputs": [],
   "source": [
    "class EuropeanOptionsCompare(Compare):\n",
    "    def define_compare(self, option):\n",
    "            self.call = EuropeanCall(T=T, K=option[3])\n",
    "            self.call_price_ref = self.call.price_using_BS(St=option[2], r=r, sigma=option[1]/100)\n",
    "            self.call_price_mc = self.call.price_using_monte_carlo(St=option[2], r=r, df=DataTimeGAN)\n",
    "\n",
    "            self.put = EuropeanPut(T=T, K=option[3])\n",
    "            self.put_price_ref = self.put.price_using_BS(St=option[2], r=r, sigma=option[1]/100)\n",
    "            self.put_price_mc = self.put.price_using_monte_carlo(St=option[2], r=r, df=DataTimeGAN)"
   ]
  },
  {
   "cell_type": "code",
   "execution_count": 57,
   "metadata": {},
   "outputs": [
    {
     "name": "stdout",
     "output_type": "stream",
     "text": [
      "<EuropeanOptionsCompare>\n",
      "\n",
      "FEB C ==> Reference Price: 407.85 MC Price: 360.61 | Difference: -11.58 %\n",
      "FEB P ==> Reference Price: 396.21 MC Price: 257.04 | Difference: -35.13 %\n",
      "\n",
      "MAR C ==> Reference Price: 393.0 MC Price: 373.61 | Difference: -4.93 %\n",
      "MAR P ==> Reference Price: 369.99 MC Price: 256.93 | Difference: -30.56 %\n",
      "\n",
      "APR C ==> Reference Price: 380.04 MC Price: 391.17 | Difference: 2.93 %\n",
      "APR P ==> Reference Price: 346.69 MC Price: 261.09 | Difference: -24.69 %\n",
      "\n",
      "MAY C ==> Reference Price: 372.37 MC Price: 411.46 | Difference: 10.5 %\n",
      "MAY P ==> Reference Price: 339.25 MC Price: 276.31 | Difference: -18.55 %\n",
      "\n",
      "JUN C ==> Reference Price: 411.04 MC Price: 411.74 | Difference: 0.17 %\n",
      "JUN P ==> Reference Price: 379.62 MC Price: 277.97 | Difference: -26.78 %\n",
      "\n",
      "JUL C ==> Reference Price: 365.22 MC Price: 422.38 | Difference: 15.65 %\n",
      "JUL P ==> Reference Price: 326.56 MC Price: 279.67 | Difference: -14.36 %\n",
      "\n",
      "AUG C ==> Reference Price: 449.8 MC Price: 385.83 | Difference: -14.22 %\n",
      "AUG P ==> Reference Price: 452.06 MC Price: 287.63 | Difference: -36.37 %\n",
      "\n",
      "SEP C ==> Reference Price: 350.32 MC Price: 402.45 | Difference: 14.88 %\n",
      "SEP P ==> Reference Price: 359.29 MC Price: 305.69 | Difference: -14.92 %\n",
      "\n",
      "OCT C ==> Reference Price: 421.59 MC Price: 410.69 | Difference: -2.59 %\n",
      "OCT P ==> Reference Price: 405.11 MC Price: 289.96 | Difference: -28.42 %\n",
      "\n",
      "NOV C ==> Reference Price: 339.4 MC Price: 417.65 | Difference: 23.05 %\n",
      "NOV P ==> Reference Price: 300.11 MC Price: 275.63 | Difference: -8.16 %\n",
      "\n",
      "DEC C ==> Reference Price: 319.54 MC Price: 420.83 | Difference: 31.7 %\n",
      "DEC P ==> Reference Price: 305.4 MC Price: 299.48 | Difference: -1.94 %\n",
      "\n"
     ]
    }
   ],
   "source": [
    "european_options_compare = EuropeanOptionsCompare(options)\n",
    "european_options_compare.compare()"
   ]
  },
  {
   "cell_type": "markdown",
   "metadata": {},
   "source": [
    "<b>Digitals</b>"
   ]
  },
  {
   "cell_type": "code",
   "execution_count": 81,
   "metadata": {},
   "outputs": [],
   "source": [
    "class CashOrNothingOptionsCompare(Compare):\n",
    "    def define_compare(self, option):\n",
    "            Q = 100\n",
    "            \n",
    "            self.call = DigitalCall(T=T, K=option[3], PayoutType=\"Cash\")\n",
    "            self.call_price_ref = self.call.price_closed_form(St=option[2], r=r, sigma=option[1]/100, Q=Q)\n",
    "            self.call_price_mc = self.call.price_using_monte_carlo(St=option[2], r=r, df=DataTimeGAN, Q=Q)\n",
    "\n",
    "            self.put = DigitalPut(T=T, K=option[3], PayoutType=\"Cash\")\n",
    "            self.put_price_ref = self.put.price_closed_form(St=option[2], r=r, sigma=option[1]/100, Q=Q)\n",
    "            self.put_price_mc = self.put.price_using_monte_carlo(St=option[2], r=r, df=DataTimeGAN, Q=Q)"
   ]
  },
  {
   "cell_type": "code",
   "execution_count": 82,
   "metadata": {},
   "outputs": [
    {
     "name": "stdout",
     "output_type": "stream",
     "text": [
      "<CashOrNothingOptionsCompare>\n",
      "\n",
      "FEB C ==> Reference Price: 48.96 MC Price: 55.27 | Difference: 12.88 %\n",
      "FEB P ==> Reference Price: 50.94 MC Price: 44.64 | Difference: -12.38 %\n",
      "\n",
      "MAR C ==> Reference Price: 49.56 MC Price: 55.81 | Difference: 12.61 %\n",
      "MAR P ==> Reference Price: 50.34 MC Price: 44.1 | Difference: -12.41 %\n",
      "\n",
      "APR C ==> Reference Price: 50.17 MC Price: 56.26 | Difference: 12.14 %\n",
      "APR P ==> Reference Price: 49.74 MC Price: 43.65 | Difference: -12.24 %\n",
      "\n",
      "MAY C ==> Reference Price: 50.28 MC Price: 56.17 | Difference: 11.73 %\n",
      "MAY P ==> Reference Price: 49.63 MC Price: 43.73 | Difference: -11.88 %\n",
      "\n",
      "JUN C ==> Reference Price: 49.93 MC Price: 56.09 | Difference: 12.34 %\n",
      "JUN P ==> Reference Price: 49.97 MC Price: 43.81 | Difference: -12.33 %\n",
      "\n",
      "JUL C ==> Reference Price: 50.63 MC Price: 56.38 | Difference: 11.36 %\n",
      "JUL P ==> Reference Price: 49.28 MC Price: 43.53 | Difference: -11.67 %\n",
      "\n",
      "AUG C ==> Reference Price: 48.38 MC Price: 54.6 | Difference: 12.85 %\n",
      "AUG P ==> Reference Price: 51.52 MC Price: 45.3 | Difference: -12.07 %\n",
      "\n",
      "SEP C ==> Reference Price: 48.44 MC Price: 54.31 | Difference: 12.11 %\n",
      "SEP P ==> Reference Price: 51.47 MC Price: 45.6 | Difference: -11.4 %\n",
      "\n",
      "OCT C ==> Reference Price: 49.27 MC Price: 55.39 | Difference: 12.42 %\n",
      "OCT P ==> Reference Price: 50.63 MC Price: 44.51 | Difference: -12.09 %\n",
      "\n",
      "NOV C ==> Reference Price: 50.88 MC Price: 56.42 | Difference: 10.9 %\n",
      "NOV P ==> Reference Price: 49.03 MC Price: 43.48 | Difference: -11.31 %\n",
      "\n",
      "DEC C ==> Reference Price: 49.7 MC Price: 55.29 | Difference: 11.24 %\n",
      "DEC P ==> Reference Price: 50.2 MC Price: 44.62 | Difference: -11.12 %\n",
      "\n"
     ]
    }
   ],
   "source": [
    "cash_or_nothing_options_compare = CashOrNothingOptionsCompare(options)\n",
    "cash_or_nothing_options_compare.compare()"
   ]
  },
  {
   "cell_type": "code",
   "execution_count": 79,
   "metadata": {},
   "outputs": [],
   "source": [
    "class AssetOrNothingOptionsCompare(Compare):\n",
    "    def define_compare(self, option):\n",
    "            self.call = DigitalCall(T=T, K=option[3], PayoutType=\"Asset\")\n",
    "            self.call_price_ref = self.call.price_closed_form(St=option[2], r=r, sigma=option[1]/100)\n",
    "            self.call_price_mc = self.call.price_using_monte_carlo(St=option[2], r=r, df=DataTimeGAN)\n",
    "            \n",
    "            self.put = DigitalPut(T=T, K=option[3], PayoutType=\"Asset\")\n",
    "            self.put_price_ref = self.put.price_closed_form(St=option[2], r=r, sigma=option[1]/100)\n",
    "            self.put_price_mc = self.put.price_using_monte_carlo(St=option[2], r=r, df=DataTimeGAN)"
   ]
  },
  {
   "cell_type": "code",
   "execution_count": 80,
   "metadata": {},
   "outputs": [
    {
     "name": "stdout",
     "output_type": "stream",
     "text": [
      "<AssetOrNothingOptionsCompare>\n",
      "\n",
      "FEB C ==> Reference Price: 7189.01 MC Price: 8015.22 | Difference: 11.49 %\n",
      "FEB P ==> Reference Price: 6659.34 MC Price: 5925.07 | Difference: -11.03 %\n",
      "\n",
      "MAR C ==> Reference Price: 7380.9 MC Price: 8242.59 | Difference: 11.67 %\n",
      "MAR P ==> Reference Price: 6728.58 MC Price: 5960.56 | Difference: -11.41 %\n",
      "\n",
      "APR C ==> Reference Price: 7679.13 MC Price: 8576.41 | Difference: 11.68 %\n",
      "APR P ==> Reference Price: 6890.26 MC Price: 6089.7 | Difference: -11.62 %\n",
      "\n",
      "MAY C ==> Reference Price: 8089.69 MC Price: 9034.18 | Difference: 11.68 %\n",
      "MAY P ==> Reference Price: 7278.7 MC Price: 6436.24 | Difference: -11.57 %\n",
      "\n",
      "JUN C ==> Reference Price: 8100.91 MC Price: 9050.23 | Difference: 11.72 %\n",
      "JUN P ==> Reference Price: 7315.73 MC Price: 6468.76 | Difference: -11.58 %\n",
      "\n",
      "JUL C ==> Reference Price: 8288.47 MC Price: 9245.36 | Difference: 11.54 %\n",
      "JUL P ==> Reference Price: 7385.17 MC Price: 6532.33 | Difference: -11.55 %\n",
      "\n",
      "AUG C ==> Reference Price: 7779.97 MC Price: 8657.97 | Difference: 11.29 %\n",
      "AUG P ==> Reference Price: 7353.23 MC Price: 6575.7 | Difference: -10.57 %\n",
      "\n",
      "SEP C ==> Reference Price: 8076.18 MC Price: 9064.23 | Difference: 12.23 %\n",
      "SEP P ==> Reference Price: 7849.55 MC Price: 6967.23 | Difference: -11.24 %\n",
      "\n",
      "OCT C ==> Reference Price: 8157.04 MC Price: 9107.04 | Difference: 11.65 %\n",
      "OCT P ==> Reference Price: 7544.38 MC Price: 6698.62 | Difference: -11.21 %\n",
      "\n",
      "NOV C ==> Reference Price: 8199.7 MC Price: 9134.67 | Difference: 11.4 %\n",
      "NOV P ==> Reference Price: 7274.77 MC Price: 6442.53 | Difference: -11.44 %\n",
      "\n",
      "DEC C ==> Reference Price: 8346.82 MC Price: 9349.98 | Difference: 12.02 %\n",
      "DEC P ==> Reference Price: 7801.82 MC Price: 6905.87 | Difference: -11.48 %\n",
      "\n"
     ]
    }
   ],
   "source": [
    "asset_or_nothing_options_compare = AssetOrNothingOptionsCompare(options)\n",
    "asset_or_nothing_options_compare.compare()"
   ]
  },
  {
   "cell_type": "markdown",
   "metadata": {},
   "source": [
    "<b>Asians</b>"
   ]
  },
  {
   "cell_type": "code",
   "execution_count": 83,
   "metadata": {},
   "outputs": [],
   "source": [
    "class AveragePriceOptionsCompare(Compare):\n",
    "    def define_compare(self, option):\n",
    "            self.call = AsianCall(T=T, K=option[3], PayoutType=\"AveragePrice\")\n",
    "            self.call_price_ref = self.call.price_closed_form(St=option[2], r=r, sigma=option[1]/100)\n",
    "            self.call_price_mc = self.call.price_using_monte_carlo(St=option[2], r=r, df=DataTimeGAN, AveragePeriod=24, AverageType=\"Geometric\")\n",
    "            \n",
    "            self.put = AsianPut(T=T, K=option[3], PayoutType=\"AveragePrice\")\n",
    "            self.put_price_ref = self.put.price_closed_form(St=option[2], r=r, sigma=option[1]/100)\n",
    "            self.put_price_mc = self.put.price_using_monte_carlo(St=option[2], r=r, df=DataTimeGAN, AveragePeriod=24, AverageType=\"Geometric\")"
   ]
  },
  {
   "cell_type": "code",
   "execution_count": 84,
   "metadata": {},
   "outputs": [
    {
     "name": "stdout",
     "output_type": "stream",
     "text": [
      "<AveragePriceOptionsCompare>\n",
      "\n",
      "FEB C ==> Reference Price: 231.47 MC Price: 211.76 | Difference: -8.52 %\n",
      "FEB P ==> Reference Price: 232.59 MC Price: 164.19 | Difference: -29.41 %\n",
      "\n",
      "MAR C ==> Reference Price: 225.59 MC Price: 221.93 | Difference: -1.62 %\n",
      "MAR P ==> Reference Price: 214.75 MC Price: 162.32 | Difference: -24.42 %\n",
      "\n",
      "APR C ==> Reference Price: 220.57 MC Price: 234.57 | Difference: 6.35 %\n",
      "APR P ==> Reference Price: 198.96 MC Price: 163.42 | Difference: -17.86 %\n",
      "\n",
      "MAY C ==> Reference Price: 216.12 MC Price: 246.26 | Difference: 13.95 %\n",
      "MAY P ==> Reference Price: 194.69 MC Price: 173.27 | Difference: -11.0 %\n",
      "\n",
      "JUN C ==> Reference Price: 237.54 MC Price: 246.02 | Difference: 3.57 %\n",
      "JUN P ==> Reference Price: 218.83 MC Price: 174.6 | Difference: -20.21 %\n",
      "\n",
      "JUL C ==> Reference Price: 213.31 MC Price: 253.92 | Difference: 19.04 %\n",
      "JUL P ==> Reference Price: 186.17 MC Price: 174.6 | Difference: -6.21 %\n",
      "\n",
      "AUG C ==> Reference Price: 252.06 MC Price: 223.25 | Difference: -11.43 %\n",
      "AUG P ==> Reference Price: 268.62 MC Price: 186.25 | Difference: -30.66 %\n",
      "\n",
      "SEP C ==> Reference Price: 194.57 MC Price: 231.41 | Difference: 18.93 %\n",
      "SEP P ==> Reference Price: 215.32 MC Price: 199.06 | Difference: -7.55 %\n",
      "\n",
      "OCT C ==> Reference Price: 240.17 MC Price: 241.9 | Difference: 0.72 %\n",
      "OCT P ==> Reference Price: 236.92 MC Price: 184.68 | Difference: -22.05 %\n",
      "\n",
      "NOV C ==> Reference Price: 198.89 MC Price: 251.34 | Difference: 26.37 %\n",
      "NOV P ==> Reference Price: 170.48 MC Price: 171.9 | Difference: 0.83 %\n",
      "\n",
      "DEC C ==> Reference Price: 181.94 MC Price: 247.24 | Difference: 35.89 %\n",
      "DEC P ==> Reference Price: 178.72 MC Price: 191.21 | Difference: 6.99 %\n",
      "\n"
     ]
    }
   ],
   "source": [
    "average_price_options_compare = AveragePriceOptionsCompare(options)\n",
    "average_price_options_compare.compare()"
   ]
  },
  {
   "cell_type": "markdown",
   "metadata": {},
   "source": [
    "<b>Chooser</b>"
   ]
  },
  {
   "cell_type": "code",
   "execution_count": 89,
   "metadata": {},
   "outputs": [],
   "source": [
    "class ChooserOptionsCompare(Compare):\n",
    "    def define_compare(self, option):\n",
    "            self.option = ChooserOption(T1=T/2, T2=T, K=option[3])\n",
    "            self.price_ref = self.option.price_closed_form(St=option[2], r=r, sigma=option[1]/100)\n",
    "            self.price_mc = self.option.price_using_monte_carlo(St=option[2], r=r, df=DataTimeGAN)\n",
    "    def compare(self):\n",
    "        for option in self.options:\n",
    "            if option == self.options[0]:\n",
    "                print(f\"<{type(self).__name__}>\\n\")\n",
    "            self.define_compare(option)\n",
    "\n",
    "            self.difference = (self.price_mc - self.price_ref) / self.price_ref\n",
    "\n",
    "            print(f\"{option[0]} ==> Reference Price: {round(self.price_ref,self.precision)} MC Price: {round(self.price_mc,self.precision)} | Difference: {round(self.difference*100,self.precision)} %\\n\")"
   ]
  },
  {
   "cell_type": "code",
   "execution_count": 90,
   "metadata": {},
   "outputs": [
    {
     "name": "stdout",
     "output_type": "stream",
     "text": [
      "<ChooserOptionsCompare>\n",
      "\n",
      "FEB ==> Reference Price: 686.36 MC Price: 523.54 | Difference: -23.72 %\n",
      "\n",
      "MAR ==> Reference Price: 651.36 MC Price: 535.02 | Difference: -17.86 %\n",
      "\n",
      "APR ==> Reference Price: 620.5 MC Price: 554.08 | Difference: -10.7 %\n",
      "\n",
      "MAY ==> Reference Price: 607.59 MC Price: 584.13 | Difference: -3.86 %\n",
      "\n",
      "JUN ==> Reference Price: 675.04 MC Price: 585.65 | Difference: -13.24 %\n",
      "\n",
      "JUL ==> Reference Price: 590.73 MC Price: 596.71 | Difference: 1.01 %\n",
      "\n",
      "AUG ==> Reference Price: 769.82 MC Price: 570.54 | Difference: -25.89 %\n",
      "\n",
      "SEP ==> Reference Price: 605.72 MC Price: 599.58 | Difference: -1.01 %\n",
      "\n",
      "OCT ==> Reference Price: 705.69 MC Price: 594.17 | Difference: -15.8 %\n",
      "\n",
      "NOV ==> Reference Price: 546.14 MC Price: 589.32 | Difference: 7.9 %\n",
      "\n",
      "DEC ==> Reference Price: 533.47 MC Price: 610.6 | Difference: 14.46 %\n",
      "\n"
     ]
    }
   ],
   "source": [
    "chooser_options_compare = ChooserOptionsCompare(options)\n",
    "chooser_options_compare.compare()"
   ]
  },
  {
   "cell_type": "markdown",
   "metadata": {},
   "source": [
    "<b>Lookbacks</b>"
   ]
  },
  {
   "cell_type": "code",
   "execution_count": 91,
   "metadata": {},
   "outputs": [],
   "source": [
    "class FloatingStrikeLookbackOptionsCompare(Compare):\n",
    "    def define_compare(self, option):\n",
    "            self.call = FloatingStrikeLookbackCall(T=T)\n",
    "            self.call_price_ref = self.call.price_closed_form(St=option[2], r=r, sigma=option[1]/100)\n",
    "            self.call_price_mc = self.call.price_using_monte_carlo(St=option[2], r=r, df=DataTimeGAN)\n",
    "            \n",
    "            self.put = FloatingStrikeLookbackPut(T=T)\n",
    "            self.put_price_ref = self.put.price_closed_form(St=option[2], r=r, sigma=option[1]/100)\n",
    "            self.put_price_mc = self.put.price_using_monte_carlo(St=option[2], r=r, df=DataTimeGAN)"
   ]
  },
  {
   "cell_type": "code",
   "execution_count": 92,
   "metadata": {},
   "outputs": [
    {
     "name": "stdout",
     "output_type": "stream",
     "text": [
      "<FloatingStrikeLookbackOptionsCompare>\n",
      "\n",
      "FEB C ==> Reference Price: 792.64 MC Price: 634.48 | Difference: -19.95 %\n",
      "FEB P ==> Reference Price: 816.05 MC Price: 565.13 | Difference: -30.75 %\n",
      "\n",
      "MAR C ==> Reference Price: 753.9 MC Price: 646.44 | Difference: -14.25 %\n",
      "MAR P ==> Reference Price: 772.8 MC Price: 575.79 | Difference: -25.49 %\n",
      "\n",
      "APR C ==> Reference Price: 719.74 MC Price: 667.52 | Difference: -7.26 %\n",
      "APR P ==> Reference Price: 734.25 MC Price: 594.56 | Difference: -19.03 %\n",
      "\n",
      "MAY C ==> Reference Price: 706.21 MC Price: 704.12 | Difference: -0.29 %\n",
      "MAY P ==> Reference Price: 717.35 MC Price: 627.16 | Difference: -12.57 %\n",
      "\n",
      "JUN C ==> Reference Price: 782.46 MC Price: 706.33 | Difference: -9.73 %\n",
      "JUN P ==> Reference Price: 799.54 MC Price: 629.13 | Difference: -21.31 %\n",
      "\n",
      "JUL C ==> Reference Price: 687.35 MC Price: 718.11 | Difference: 4.47 %\n",
      "JUL P ==> Reference Price: 696.3 MC Price: 639.62 | Difference: -8.14 %\n",
      "\n",
      "AUG C ==> Reference Price: 887.95 MC Price: 693.35 | Difference: -21.92 %\n",
      "AUG P ==> Reference Price: 915.64 MC Price: 617.57 | Difference: -32.55 %\n",
      "\n",
      "SEP C ==> Reference Price: 704.48 MC Price: 729.66 | Difference: 3.57 %\n",
      "SEP P ==> Reference Price: 714.01 MC Price: 649.91 | Difference: -8.98 %\n",
      "\n",
      "OCT C ==> Reference Price: 817.39 MC Price: 719.38 | Difference: -11.99 %\n",
      "OCT P ==> Reference Price: 836.53 MC Price: 640.75 | Difference: -23.4 %\n",
      "\n",
      "NOV C ==> Reference Price: 636.48 MC Price: 708.98 | Difference: 11.39 %\n",
      "NOV P ==> Reference Price: 642.38 MC Price: 631.49 | Difference: -1.7 %\n",
      "\n",
      "DEC C ==> Reference Price: 623.23 MC Price: 739.87 | Difference: 18.72 %\n",
      "DEC P ==> Reference Price: 626.73 MC Price: 659.0 | Difference: 5.15 %\n",
      "\n"
     ]
    }
   ],
   "source": [
    "floating_strike_lookback_options_compare = FloatingStrikeLookbackOptionsCompare(options)\n",
    "floating_strike_lookback_options_compare.compare()"
   ]
  }
 ],
 "metadata": {
  "kernelspec": {
   "display_name": "Python 3",
   "language": "python",
   "name": "python3"
  },
  "language_info": {
   "codemirror_mode": {
    "name": "ipython",
    "version": 3
   },
   "file_extension": ".py",
   "mimetype": "text/x-python",
   "name": "python",
   "nbconvert_exporter": "python",
   "pygments_lexer": "ipython3",
   "version": "3.7.3"
  }
 },
 "nbformat": 4,
 "nbformat_minor": 2
}
